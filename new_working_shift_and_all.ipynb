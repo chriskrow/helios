{
 "metadata": {
  "name": "",
  "signature": "sha256:21684d82ddf1bb5a70508df1c5b3fc02e5f5c138bd17b76ade98650091353d67"
 },
 "nbformat": 3,
 "nbformat_minor": 0,
 "worksheets": [
  {
   "cells": [
    {
     "cell_type": "heading",
     "level": 1,
     "metadata": {},
     "source": [
      "Wrangle Home.dat data into Pandas DataFrame object indexed as a DatetimeIndex Time series "
     ]
    },
    {
     "cell_type": "heading",
     "level": 4,
     "metadata": {},
     "source": [
      "Import Libraries and set # of rows to display"
     ]
    },
    {
     "cell_type": "code",
     "collapsed": false,
     "input": [
      "import numpy as np\n",
      "import pandas as pd\n",
      "from datetime import datetime\n",
      "from datetime import date, time\n",
      "import matplotlib.pyplot as plt\n",
      "\n",
      "pd.options.display.max_rows = 1000"
     ],
     "language": "python",
     "metadata": {},
     "outputs": [],
     "prompt_number": 1
    },
    {
     "cell_type": "heading",
     "level": 4,
     "metadata": {},
     "source": [
      "run home.dat through bash script which deletes \"24\"s and changes datetime format (see script comments)"
     ]
    },
    {
     "cell_type": "code",
     "collapsed": false,
     "input": [
      "!. home_final_prep.sh home.dat"
     ],
     "language": "python",
     "metadata": {},
     "outputs": [],
     "prompt_number": 3
    },
    {
     "cell_type": "heading",
     "level": 4,
     "metadata": {},
     "source": [
      "creat a function called parse that takes 3 args, then create var called date_string that puts a space between separate parts of csv datetime components, which gets returned from the function as a datetime string using the format in quotes."
     ]
    },
    {
     "cell_type": "code",
     "collapsed": false,
     "input": [
      "def parse(yr, yearday, hrmn):\n",
      "          date_string = ' '.join([yr, yearday, hrmn])\n",
      "          return datetime.strptime(date_string,\"%Y %j %H%M\")"
     ],
     "language": "python",
     "metadata": {},
     "outputs": [],
     "prompt_number": 4
    },
    {
     "cell_type": "heading",
     "level": 4,
     "metadata": {},
     "source": [
      "read in the csv created from teh above bash script which takes a file called \"home.dat\" and names it home_prepped.dat\n",
      "Then parse it according to above function and combine the 3 columns in csv to one \n",
      "date_string which gets indexed as 'datetime'"
     ]
    },
    {
     "cell_type": "code",
     "collapsed": false,
     "input": [
      "\n",
      "df = pd.read_csv('home_prepped.dat', parse_dates={'datetime':[0,1,2]}, date_parser=parse, index_col='datetime', header=None)"
     ],
     "language": "python",
     "metadata": {},
     "outputs": [],
     "prompt_number": 149
    },
    {
     "cell_type": "heading",
     "level": 4,
     "metadata": {},
     "source": [
      "there are duplicate datetimes from 2014-12-11 02:27 to 04:28 or so. drop duplicates does not\n",
      "        like to drop indexd datetimes apaprently so this converst them to strings and then deletes columns after....\n",
      "        result is no duplicate datetimes in dataframe called df"
     ]
    },
    {
     "cell_type": "code",
     "collapsed": false,
     "input": [
      "df[\"index\"] = df.index\n",
      "df.drop_duplicates(subset='index', take_last=True, inplace=True)\n",
      "del df[\"index\"]"
     ],
     "language": "python",
     "metadata": {},
     "outputs": [],
     "prompt_number": 150
    },
    {
     "cell_type": "heading",
     "level": 4,
     "metadata": {},
     "source": [
      "slice out the time chunk that got accidentally switched to DST on the 11th, and then returned to non-DST on the 28th"
     ]
    },
    {
     "cell_type": "code",
     "collapsed": false,
     "input": [
      "slice = df['20141211 02:00':'20141227 22:00']"
     ],
     "language": "python",
     "metadata": {},
     "outputs": [],
     "prompt_number": 153
    },
    {
     "cell_type": "heading",
     "level": 4,
     "metadata": {},
     "source": [
      "shift the slice minutely (periods), by a frequency of one hour (freq; 60T)"
     ]
    },
    {
     "cell_type": "code",
     "collapsed": false,
     "input": [
      "shifted = slice.shift(periods=1, freq='60T')"
     ],
     "language": "python",
     "metadata": {},
     "outputs": [],
     "prompt_number": 154
    },
    {
     "cell_type": "heading",
     "level": 4,
     "metadata": {},
     "source": [
      "combine the 2 dataframes into originally named df"
     ]
    },
    {
     "cell_type": "code",
     "collapsed": false,
     "input": [
      "df = shifted.combine_first(df)"
     ],
     "language": "python",
     "metadata": {},
     "outputs": [],
     "prompt_number": 162
    },
    {
     "cell_type": "heading",
     "level": 4,
     "metadata": {},
     "source": [
      "write to csv back to original date format and limiting the floating point decimal places"
     ]
    },
    {
     "cell_type": "code",
     "collapsed": false,
     "input": [
      "df.to_csv('test_shifted.csv', date_format=\"%Y %j %H%M\",float_format='%.3f')"
     ],
     "language": "python",
     "metadata": {},
     "outputs": [],
     "prompt_number": 163
    },
    {
     "cell_type": "code",
     "collapsed": false,
     "input": [
      "df.corr()"
     ],
     "language": "python",
     "metadata": {},
     "outputs": [
      {
       "html": [
        "<div style=\"max-height:1000px;max-width:1500px;overflow:auto;\">\n",
        "<table border=\"1\" class=\"dataframe\">\n",
        "  <thead>\n",
        "    <tr style=\"text-align: right;\">\n",
        "      <th></th>\n",
        "      <th>3</th>\n",
        "      <th>4</th>\n",
        "    </tr>\n",
        "  </thead>\n",
        "  <tbody>\n",
        "    <tr>\n",
        "      <th>3</th>\n",
        "      <td> 1.000000</td>\n",
        "      <td> 0.948912</td>\n",
        "    </tr>\n",
        "    <tr>\n",
        "      <th>4</th>\n",
        "      <td> 0.948912</td>\n",
        "      <td> 1.000000</td>\n",
        "    </tr>\n",
        "  </tbody>\n",
        "</table>\n",
        "</div>"
       ],
       "metadata": {},
       "output_type": "pyout",
       "prompt_number": 176,
       "text": [
        "          3         4\n",
        "3  1.000000  0.948912\n",
        "4  0.948912  1.000000"
       ]
      }
     ],
     "prompt_number": 176
    },
    {
     "cell_type": "code",
     "collapsed": false,
     "input": [
      "df.memory_usage()"
     ],
     "language": "python",
     "metadata": {},
     "outputs": [
      {
       "metadata": {},
       "output_type": "pyout",
       "prompt_number": 178,
       "text": [
        "3    3112088\n",
        "4    3112088\n",
        "dtype: int64"
       ]
      }
     ],
     "prompt_number": 178
    },
    {
     "cell_type": "code",
     "collapsed": false,
     "input": [
      "plt.show()"
     ],
     "language": "python",
     "metadata": {},
     "outputs": [],
     "prompt_number": 172
    },
    {
     "cell_type": "code",
     "collapsed": false,
     "input": [
      "df['20141227 8:00':'20141227 10:00'].plot()"
     ],
     "language": "python",
     "metadata": {},
     "outputs": [
      {
       "metadata": {},
       "output_type": "pyout",
       "prompt_number": 167,
       "text": [
        "<matplotlib.axes.AxesSubplot at 0x113592290>"
       ]
      }
     ],
     "prompt_number": 167
    }
   ],
   "metadata": {}
  }
 ]
}